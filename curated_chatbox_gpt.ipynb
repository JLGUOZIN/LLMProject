{
 "cells": [
  {
   "cell_type": "code",
   "id": "initial_id",
   "metadata": {
    "collapsed": true,
    "ExecuteTime": {
     "end_time": "2024-12-13T03:04:50.080086Z",
     "start_time": "2024-12-13T03:04:49.998266Z"
    }
   },
   "source": [
    "from dotenv import load_dotenv\n",
    "\n",
    "import os\n",
    "\n",
    "load_dotenv()\n",
    "api_key = os.getenv(\"OPENAI_API_KEY\")\n",
    "\n",
    "if not api_key:\n",
    "    print(\"No OpenAI API key found.\")\n",
    "else:\n",
    "    print(\"OpenAI API key found.\")"
   ],
   "outputs": [
    {
     "name": "stdout",
     "output_type": "stream",
     "text": [
      "OpenAI API key found.\n"
     ]
    }
   ],
   "execution_count": 14
  },
  {
   "metadata": {},
   "cell_type": "markdown",
   "source": "### Adding Tool to further instruct GPT",
   "id": "a0194033c024033a"
  },
  {
   "metadata": {
    "ExecuteTime": {
     "end_time": "2024-12-13T04:02:40.147433Z",
     "start_time": "2024-12-13T04:02:40.068352Z"
    }
   },
   "cell_type": "code",
   "source": [
    "# Bag prices\n",
    "bag_prices = {\n",
    "    \"Rico Black\": \"S$150\",\n",
    "    \"Rico Red\": \"S$150\",\n",
    "    \"Mini Klaki\": \"S$80\",\n",
    "    \"Disney Series\": \"S$250\"\n",
    "}\n",
    "\n",
    "def get_bag_price(bag_name):\n",
    "    normalize_bag_price = {key.lower(): value for key, value in bag_prices.items()}\n",
    "    return normalize_bag_price.get(bag_name.lower(), \"Unknown\")\n",
    "\n",
    "price_function = {\n",
    "    \"name\": \"get_bag_price\",\n",
    "    \"description\": \"Get the price of a bag. Call this whenever you need to know the bag price, for example when a customer asks 'How much is a price of Mini Klaki'\",\n",
    "    \"parameters\": {\n",
    "        \"type\": \"object\",\n",
    "        \"properties\": {\n",
    "            \"bag_name\": {\n",
    "                \"type\": \"string\",\n",
    "                \"description\": \"The price of the bag customer would like to know\",\n",
    "            },\n",
    "        },\n",
    "        \"required\": [\"bag_name\"],\n",
    "        \"additionalProperties\": False\n",
    "    }\n",
    "}\n",
    "\n",
    "tools = [{\"type\": \"function\", \"function\": price_function}]"
   ],
   "id": "1e9667a59d033a22",
   "outputs": [],
   "execution_count": 53
  },
  {
   "metadata": {
    "ExecuteTime": {
     "end_time": "2024-12-13T04:05:03.147938Z",
     "start_time": "2024-12-13T04:05:02.829756Z"
    }
   },
   "cell_type": "code",
   "source": [
    "import json\n",
    "from openai import OpenAI\n",
    "\n",
    "openai = OpenAI()\n",
    "\n",
    "system_message_dict = {\n",
    "    \"role\": \"system\",\n",
    "    \"content\": \"You are a helpful assistant for an Ecommerce Website who sell bags called Sift & Pick. \"\n",
    "               \"Give short, courteous answers, no more than 1 sentence. \"\n",
    "               \"Always be accurate. If you don't know the answer, say so.\"\n",
    "}\n",
    "\n",
    "def message_gpt(message, history):\n",
    "    global system_message_dict\n",
    "    \n",
    "    messages = [system_message_dict] + history + [{\"role\": \"user\", \"content\": message}]\n",
    "    print(\"Constructed messages:\", json.dumps(messages, indent=2))\n",
    "    \n",
    "    try:\n",
    "        response = openai.chat.completions.create(model=\"gpt-4o-mini\", messages=messages, tools=tools)\n",
    "        if response.choices[0].finish_reason==\"tool_calls\":\n",
    "            tool_message  = response.choices[0].message\n",
    "            tool_response, bag_name = handle_tool_call(tool_message)\n",
    "            messages.append(tool_message)\n",
    "            messages.append(tool_response)\n",
    "            response = openai.chat.completions.create(model=\"gpt-4o-mini\", messages=messages)\n",
    "            return response.choices[0].message.content\n",
    "        return response.choices[0].message.content\n",
    "    except Exception as e:\n",
    "        print(f\"Error: {e}\")\n",
    "        return f\"An error occurred: {e}\"\n",
    "    \n",
    "def handle_tool_call(message):\n",
    "    tool_call = message.tool_calls[0]\n",
    "    arguments = json.loads(tool_call.function.arguments)\n",
    "    print(\"Tool call arguments:\", arguments)\n",
    "    bag_name = arguments[\"bag_name\"]\n",
    "    price = get_bag_price(bag_name)\n",
    "    print(f\"Bag name: {bag_name}, Price: {price}\")\n",
    "    response = {\n",
    "        \"role\": \"tool\",\n",
    "        \"content\": json.dumps({\"bag_name\": bag_name,\"price\": price}),\n",
    "        \"tool_call_id\": tool_call.id\n",
    "    }\n",
    "    return response, bag_name\n"
   ],
   "id": "e977aacc12d2d631",
   "outputs": [],
   "execution_count": 58
  },
  {
   "metadata": {},
   "cell_type": "markdown",
   "source": "### Build a Chatbot",
   "id": "c29156c5c4f62af"
  },
  {
   "metadata": {
    "ExecuteTime": {
     "end_time": "2024-12-13T04:05:06.284516Z",
     "start_time": "2024-12-13T04:05:05.680965Z"
    }
   },
   "cell_type": "code",
   "source": [
    "import gradio as gr\n",
    "\n",
    "gr.ChatInterface(fn=message_gpt, type=\"messages\").launch()"
   ],
   "id": "30124d7dd84a3483",
   "outputs": [
    {
     "name": "stdout",
     "output_type": "stream",
     "text": [
      "* Running on local URL:  http://127.0.0.1:7880\n",
      "\n",
      "To create a public link, set `share=True` in `launch()`.\n"
     ]
    },
    {
     "data": {
      "text/plain": [
       "<IPython.core.display.HTML object>"
      ],
      "text/html": [
       "<div><iframe src=\"http://127.0.0.1:7880/\" width=\"100%\" height=\"500\" allow=\"autoplay; camera; microphone; clipboard-read; clipboard-write;\" frameborder=\"0\" allowfullscreen></iframe></div>"
      ]
     },
     "metadata": {},
     "output_type": "display_data"
    },
    {
     "data": {
      "text/plain": []
     },
     "execution_count": 59,
     "metadata": {},
     "output_type": "execute_result"
    }
   ],
   "execution_count": 59
  },
  {
   "metadata": {},
   "cell_type": "code",
   "outputs": [],
   "execution_count": null,
   "source": "",
   "id": "4bd43773285d9204"
  }
 ],
 "metadata": {
  "kernelspec": {
   "display_name": "Python 3",
   "language": "python",
   "name": "python3"
  },
  "language_info": {
   "codemirror_mode": {
    "name": "ipython",
    "version": 2
   },
   "file_extension": ".py",
   "mimetype": "text/x-python",
   "name": "python",
   "nbconvert_exporter": "python",
   "pygments_lexer": "ipython2",
   "version": "2.7.6"
  }
 },
 "nbformat": 4,
 "nbformat_minor": 5
}
