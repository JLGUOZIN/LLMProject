{
 "cells": [
  {
   "cell_type": "code",
   "id": "initial_id",
   "metadata": {
    "collapsed": true,
    "ExecuteTime": {
     "end_time": "2024-12-12T09:49:27.023222Z",
     "start_time": "2024-12-12T09:49:22.906978Z"
    }
   },
   "source": [
    "import requests\n",
    "from bs4 import BeautifulSoup\n",
    "\n",
    "OLLAMA_API = \"http://localhost:11434/api/chat\"\n",
    "HEADERS = {\"Content-Type\": \"application/json\"}\n",
    "MODEL = \"llama3.2\"\n",
    "\n",
    "user_message = [{\n",
    "    \"role\":\"user\",\n",
    "    \"content\":\"Hello! This is my first ever message to you!\"\n",
    "}]\n",
    "\n",
    "payload = {\n",
    "    \"model\": MODEL,\n",
    "    \"messages\": user_message,\n",
    "    \"stream\": False\n",
    "}\n",
    "\n",
    "response = requests.post(OLLAMA_API, json=payload, headers=HEADERS)\n",
    "print(response.json()['message']['content'])"
   ],
   "outputs": [
    {
     "name": "stdout",
     "output_type": "stream",
     "text": [
      "Welcome! I'm thrilled to be your conversational partner for the first time. I'm here to help answer any questions, provide information, or simply chat with you about anything that's on your mind. How can I assist you today? Is there something specific you'd like to talk about, or do you want to get to know me better?\n"
     ]
    }
   ],
   "execution_count": 7
  },
  {
   "metadata": {
    "ExecuteTime": {
     "end_time": "2024-12-12T09:54:56.799540Z",
     "start_time": "2024-12-12T09:54:56.794573Z"
    }
   },
   "cell_type": "code",
   "source": [
    "headers = {\n",
    " \"User-Agent\": \"Mozilla/5.0 (Windows NT 10.0; Win64; x64) AppleWebKit/537.36 (KHTML, like Gecko) Chrome/117.0.0.0 Safari/537.36\"\n",
    "}\n",
    "\n",
    "class WebsiteCrawler:\n",
    "    def __init__(self, url):\n",
    "        self.url = url\n",
    "        resp = requests.get(url, headers=headers)\n",
    "        self.body = resp.content\n",
    "        soup = BeautifulSoup(self.body, 'html.parser')\n",
    "        self.title = soup.title.string if soup.title else \"No title found\"\n",
    "        if soup.body:\n",
    "            for irrelevant in soup.body([\"script\",\"style\",\"img\",\"input\"]):\n",
    "                irrelevant.decompose()\n",
    "            else:\n",
    "                self.text = \"\"\n",
    "            links = [link.get('href') for link in soup.find_all('a')]\n",
    "            self.links = [link for link in links if link]\n",
    "            \n",
    "    def get_contents(self):\n",
    "        return f\"Webpage Title: {self.title}\\nWebpage URL: {self.url}\\nWebpage Content: {self.text}\\n\\n\"\n"
   ],
   "id": "a3c763ba724f0416",
   "outputs": [],
   "execution_count": 11
  },
  {
   "metadata": {
    "ExecuteTime": {
     "end_time": "2024-12-12T10:20:39.941944Z",
     "start_time": "2024-12-12T10:20:38.822399Z"
    }
   },
   "cell_type": "code",
   "source": [
    "link_system_prompt = \"You are provided with a list of links found on a webpage. \\\n",
    "take only link of About page.\\n\"\n",
    "link_system_prompt += \"You should respond in JSON as in this example:\"\n",
    "link_system_prompt += \"\"\"\n",
    "{\n",
    "    \"links\": [\n",
    "        {\"type\": \"about page\", \"url\": \"https://full.url/goes/here/about\"},\n",
    "    ]\n",
    "}\n",
    "\"\"\"\n",
    "\n",
    "print(link_system_prompt)\n",
    "\n",
    "def get_links_user_prompt(website):\n",
    "    user_prompt = f\"Here is the about us link on the website of {website.url}\"\n",
    "    return user_prompt\n",
    "\n",
    "testpage = WebsiteCrawler(\"https://www.siftandpick.com\")\n",
    "print(get_links_user_prompt(testpage))"
   ],
   "id": "b4a7cc13ed77cb87",
   "outputs": [
    {
     "name": "stdout",
     "output_type": "stream",
     "text": [
      "You are provided with a list of links found on a webpage. take only link of About page.\n",
      "You should respond in JSON as in this example:\n",
      "{\n",
      "    \"links\": [\n",
      "        {\"type\": \"about page\", \"url\": \"https://full.url/goes/here/about\"},\n",
      "    ]\n",
      "}\n",
      "\n",
      "Here is the about us link on the website of https://www.siftandpick.com\n"
     ]
    }
   ],
   "execution_count": 31
  },
  {
   "metadata": {
    "ExecuteTime": {
     "end_time": "2024-12-12T10:21:29.425827Z",
     "start_time": "2024-12-12T10:21:25.504545Z"
    }
   },
   "cell_type": "code",
   "source": [
    "import json\n",
    "\n",
    "\n",
    "def get_links(url):\n",
    "    global MODEL\n",
    "    webpage = WebsiteCrawler(url)    \n",
    "    _payload = {\n",
    "        \"model\": MODEL,\n",
    "        \"messages\": [\n",
    "            {\"role\": \"system\", \"content\": link_system_prompt},\n",
    "            {\"role\": \"user\", \"content\": get_links_user_prompt(webpage)}\n",
    "        ],\n",
    "        \"stream\": False\n",
    "    }\n",
    "    res = requests.post(OLLAMA_API, json=_payload, headers=HEADERS)\n",
    "    content = res.json()['message']['content']\n",
    "    parsed_content = json.loads(content)\n",
    "    return parsed_content.get(\"links\")[0][\"url\"]\n",
    "\n",
    "get_links(\"https://www.siftandpick.com\")"
   ],
   "id": "5d19f356b2b07db6",
   "outputs": [
    {
     "data": {
      "text/plain": [
       "'https://www.siftandpick.com/pages/about'"
      ]
     },
     "execution_count": 35,
     "metadata": {},
     "output_type": "execute_result"
    }
   ],
   "execution_count": 35
  },
  {
   "metadata": {},
   "cell_type": "code",
   "outputs": [],
   "execution_count": null,
   "source": "",
   "id": "8a3a6a292a3b6142"
  }
 ],
 "metadata": {
  "kernelspec": {
   "display_name": "Python 3",
   "language": "python",
   "name": "python3"
  },
  "language_info": {
   "codemirror_mode": {
    "name": "ipython",
    "version": 2
   },
   "file_extension": ".py",
   "mimetype": "text/x-python",
   "name": "python",
   "nbconvert_exporter": "python",
   "pygments_lexer": "ipython2",
   "version": "2.7.6"
  }
 },
 "nbformat": 4,
 "nbformat_minor": 5
}
